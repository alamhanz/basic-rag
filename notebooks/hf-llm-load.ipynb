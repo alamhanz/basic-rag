{
 "cells": [
  {
   "cell_type": "code",
   "execution_count": 2,
   "metadata": {},
   "outputs": [],
   "source": [
    "## Source : https://github.com/pinecone-io/examples/blob/master/learn/generation/llm-field-guide/llama-2/llama-2-13b-retrievalqa.ipynb\n",
    "## source : https://huggingface.co/TinyLlama/TinyLlama-1.1B-Chat-v1.0"
   ]
  },
  {
   "cell_type": "code",
   "execution_count": 3,
   "metadata": {},
   "outputs": [
    {
     "name": "stderr",
     "output_type": "stream",
     "text": [
      "c:\\Users\\amoza\\anaconda3\\envs\\tprep\\lib\\site-packages\\tqdm\\auto.py:21: TqdmWarning: IProgress not found. Please update jupyter and ipywidgets. See https://ipywidgets.readthedocs.io/en/stable/user_install.html\n",
      "  from .autonotebook import tqdm as notebook_tqdm\n"
     ]
    }
   ],
   "source": [
    "import torch\n",
    "from transformers import pipeline\n",
    "\n",
    "pipe = pipeline(\"text-generation\", model=\"TinyLlama/TinyLlama-1.1B-Chat-v1.0\", torch_dtype=torch.bfloat16, device_map=\"auto\")"
   ]
  },
  {
   "cell_type": "code",
   "execution_count": 4,
   "metadata": {},
   "outputs": [],
   "source": [
    "# We use the tokenizer's chat template to format each message - see https://huggingface.co/docs/transformers/main/en/chat_templating\n",
    "messages = [\n",
    "    {\n",
    "        \"role\": \"system\",\n",
    "        \"content\": \"You are a friendly chatbot who always responds in the style of a teacher\",\n",
    "    },\n",
    "    {\"role\": \"user\", \"content\": \"How do I make fried rice?\"},\n",
    "]"
   ]
  },
  {
   "cell_type": "code",
   "execution_count": 5,
   "metadata": {},
   "outputs": [
    {
     "name": "stdout",
     "output_type": "stream",
     "text": [
      "<|system|>\n",
      "You are a friendly chatbot who always responds in the style of a teacher</s>\n",
      "<|user|>\n",
      "How do I make fried rice?</s>\n",
      "<|assistant|>\n",
      "Fried rice is a popular Chinese dish that consists of rice cooked with various ingredients, including eggs, vegetables, and protein. Here is a basic recipe for making fried rice:\n",
      "\n",
      "Ingredients:\n",
      "- 2 cups uncooked long-grain white rice\n",
      "- 2 tablespoons vegetable oil\n",
      "- 1 onion, finely chopped\n",
      "- 2 garlic cloves, minced\n",
      "- 1 cup sliced mushrooms\n",
      "- 1 cup sliced bell peppers\n",
      "- 1 cup sliced carrots\n",
      "- 2 eggs, beaten\n",
      "- 1 tablespoon soy sauce\n",
      "- 1 tablespoon sesame oil\n",
      "- Salt and pepper, to taste\n",
      "\n",
      "Instructions:\n",
      "1. In a large skillet or wok, heat the vegetable oil over medium-high heat. Add the onion and garlic, and stir-fry for 1-2 minutes until the onion is translucent.\n",
      "2. Add the sliced mushrooms, bell peppers, and carrots, and stir-fry for 5-6 minutes\n"
     ]
    }
   ],
   "source": [
    "prompt = pipe.tokenizer.apply_chat_template(messages, tokenize=False, add_generation_prompt=True)\n",
    "outputs = pipe(prompt, max_new_tokens=256, do_sample=True, temperature=0.7, top_k=50, top_p=0.95)\n",
    "print(outputs[0][\"generated_text\"]) ## 6 minutes to answer with CPU local"
   ]
  },
  {
   "cell_type": "code",
   "execution_count": 4,
   "metadata": {},
   "outputs": [],
   "source": [
    "# We use the tokenizer's chat template to format each message - see https://huggingface.co/docs/transformers/main/en/chat_templating\n",
    "messages = [\n",
    "    {\n",
    "        \"role\": \"system\",\n",
    "        \"content\": \"You are a friendly chatbot who always responds in the style of a pirate\",\n",
    "    },\n",
    "    {\"role\": \"user\", \"content\": \"what is square root of 2? please explain how to get it\"},\n",
    "]"
   ]
  },
  {
   "cell_type": "code",
   "execution_count": 6,
   "metadata": {},
   "outputs": [
    {
     "name": "stdout",
     "output_type": "stream",
     "text": [
      "<|system|>\n",
      "You are a friendly chatbot who always responds in the style of a pirate</s>\n",
      "<|user|>\n",
      "what is square root of 2? please explain how to get it</s>\n",
      "<|assistant|>\n",
      "Square root of 2 is the square root of 2, which is approximately 1.414213562373095. Here's how to find it:\n",
      "\n",
      "1. Divide both sides of the equation by 2:\n",
      "   Square root of 2 = (2 x √2) / 2 = (2 x √2) / 2 = (2 x 1.414213562373095) / 2 = 1.414213562373095\n",
      "\n",
      "2. Subtract 1 from both sides:\n",
      "   Square root of 2 = √2 - 1 = 1.414213562373095 - 1 = 1.414213562373095\n",
      "\n",
      "3. Multiply both sides by 2:\n",
      "   Square root of 2 = 1.414213562373095 x √2 = 1.414213562373095 x 2 = 2.88640793702092\n",
      "\n",
      "So, 1.414213562373095 is the square root of 2.\n"
     ]
    }
   ],
   "source": [
    "prompt = pipe.tokenizer.apply_chat_template(messages, tokenize=False, add_generation_prompt=True)\n",
    "outputs = pipe(prompt, max_new_tokens=800, do_sample=True, temperature=0.7, top_k=50, top_p=0.95)\n",
    "print(outputs[0][\"generated_text\"]) ## 7.5 minutes to answer with CPU local"
   ]
  },
  {
   "cell_type": "code",
   "execution_count": null,
   "metadata": {},
   "outputs": [],
   "source": []
  }
 ],
 "metadata": {
  "kernelspec": {
   "display_name": "tprep",
   "language": "python",
   "name": "python3"
  },
  "language_info": {
   "codemirror_mode": {
    "name": "ipython",
    "version": 3
   },
   "file_extension": ".py",
   "mimetype": "text/x-python",
   "name": "python",
   "nbconvert_exporter": "python",
   "pygments_lexer": "ipython3",
   "version": "3.9.18"
  }
 },
 "nbformat": 4,
 "nbformat_minor": 2
}
