{
 "cells": [
  {
   "cell_type": "code",
   "execution_count": 2,
   "metadata": {},
   "outputs": [],
   "source": [
    "# https://python.langchain.com/docs/use_cases/web_scraping"
   ]
  },
  {
   "cell_type": "code",
   "execution_count": 16,
   "metadata": {},
   "outputs": [],
   "source": [
    "import sys\n",
    "sys.path.append('../src/')\n",
    "from common import save_docs_to_jsonl"
   ]
  },
  {
   "cell_type": "code",
   "execution_count": 13,
   "metadata": {},
   "outputs": [],
   "source": []
  },
  {
   "cell_type": "code",
   "execution_count": 3,
   "metadata": {},
   "outputs": [],
   "source": [
    "source_info = '../Documents/sources.txt'\n",
    "\n",
    "all_webs = open(source_info)\n",
    "all_webs = all_webs.readlines()\n",
    "all_webs = [i.strip('\\n') for i in all_webs]"
   ]
  },
  {
   "cell_type": "code",
   "execution_count": 4,
   "metadata": {},
   "outputs": [
    {
     "data": {
      "text/plain": [
       "['https://www.aljazeera.com/news/2024/1/2/how-devastating-was-mondays-earthquake-in-japan',\n",
       " 'https://www.nature.com/articles/d41586-024-00010-1',\n",
       " 'https://www.aljazeera.com/news/2024/1/6/japan-earthquake-death-toll-crosses-100',\n",
       " 'https://www.japantimes.co.jp/news/2024/01/01/japan/new-years-2024-earthquake/',\n",
       " 'https://www.jrc.or.jp/english/relief/2024NotoPeninsulaEarthquake.html',\n",
       " 'https://www.reuters.com/world/japan/magnitude-74-earthquake-strikes-japan-tsunami-warning-issued-2024-01-01/',\n",
       " 'https://www.space.com/japan-earthquake-january-2024-shifted-coastline-photos',\n",
       " 'https://en.wikipedia.org/wiki/2024_Noto_earthquake']"
      ]
     },
     "execution_count": 4,
     "metadata": {},
     "output_type": "execute_result"
    }
   ],
   "source": [
    "all_webs"
   ]
  },
  {
   "cell_type": "code",
   "execution_count": 5,
   "metadata": {},
   "outputs": [],
   "source": [
    "# https://stackoverflow.com/questions/45600579/asyncio-event-loop-is-closed-when-getting-loop\n",
    "import asyncio\n",
    "asyncio.set_event_loop_policy(asyncio.WindowsSelectorEventLoopPolicy())"
   ]
  },
  {
   "cell_type": "code",
   "execution_count": 6,
   "metadata": {},
   "outputs": [
    {
     "name": "stderr",
     "output_type": "stream",
     "text": [
      "Fetching pages: 100%|##########| 8/8 [00:08<00:00,  1.02s/it]\n"
     ]
    }
   ],
   "source": [
    "from langchain_community.document_loaders import AsyncChromiumLoader, AsyncHtmlLoader\n",
    "from langchain_community.document_transformers import BeautifulSoupTransformer, Html2TextTransformer\n",
    "\n",
    "# Load HTML\n",
    "loader = AsyncHtmlLoader(all_webs)\n",
    "all_html = loader.load()"
   ]
  },
  {
   "cell_type": "code",
   "execution_count": 7,
   "metadata": {},
   "outputs": [],
   "source": [
    "html2text = Html2TextTransformer()\n",
    "docs_transformed = html2text.transform_documents(all_html)"
   ]
  },
  {
   "cell_type": "code",
   "execution_count": 11,
   "metadata": {},
   "outputs": [
    {
     "data": {
      "text/plain": [
       "{'source': 'https://www.aljazeera.com/news/2024/1/2/how-devastating-was-mondays-earthquake-in-japan',\n",
       " 'title': 'How devastating was Monday’s earthquake in Japan? | Earthquakes News | Al Jazeera',\n",
       " 'description': 'At least 30 people have been killed in Ishikawa while many people are believed to be trapped under rubble.',\n",
       " 'language': 'en'}"
      ]
     },
     "execution_count": 11,
     "metadata": {},
     "output_type": "execute_result"
    }
   ],
   "source": [
    "docs_transformed[0].metadata"
   ]
  },
  {
   "cell_type": "code",
   "execution_count": 14,
   "metadata": {},
   "outputs": [],
   "source": [
    "for i in range(len(all_html)):\n",
    "    txt = docs_transformed[i].page_content\n",
    "    with open('../Documents/main/text_{}.txt'.format(i), 'w') as f:\n",
    "        f.write(txt)"
   ]
  },
  {
   "cell_type": "code",
   "execution_count": 15,
   "metadata": {},
   "outputs": [],
   "source": [
    "save_docs_to_jsonl(docs_transformed,'../Documents/main_docs.jsonl')"
   ]
  },
  {
   "cell_type": "code",
   "execution_count": null,
   "metadata": {},
   "outputs": [],
   "source": []
  }
 ],
 "metadata": {
  "kernelspec": {
   "display_name": "tprep",
   "language": "python",
   "name": "python3"
  },
  "language_info": {
   "codemirror_mode": {
    "name": "ipython",
    "version": 3
   },
   "file_extension": ".py",
   "mimetype": "text/x-python",
   "name": "python",
   "nbconvert_exporter": "python",
   "pygments_lexer": "ipython3",
   "version": "3.9.18"
  }
 },
 "nbformat": 4,
 "nbformat_minor": 2
}
